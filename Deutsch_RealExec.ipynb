{
 "cells": [
  {
   "cell_type": "code",
   "execution_count": 12,
   "id": "9a8cec0f-f312-4e50-9216-366a5d947db3",
   "metadata": {},
   "outputs": [
    {
     "name": "stderr",
     "output_type": "stream",
     "text": [
      "ibmqfactory.load_account:WARNING:2022-05-11 18:44:52,252: Credentials are already in use. The existing account in the session will be replaced.\n"
     ]
    }
   ],
   "source": [
    "# Importing standard Qiskit libraries and configuring account\n",
    "from qiskit import QuantumCircuit, execute, Aer, IBMQ, assemble, transpile\n",
    "from qiskit.compiler import transpile, assemble\n",
    "from qiskit.tools.jupyter import *\n",
    "from qiskit.visualization import *\n",
    "from ibm_quantum_widgets import *\n",
    "from qiskit.providers.ibmq import least_busy\n",
    "# Loading your IBM Q account(s)\n",
    "provider = IBMQ.load_account()"
   ]
  },
  {
   "cell_type": "code",
   "execution_count": 13,
   "id": "971c58b5-10cd-486c-9d43-e6b4b6d8ab4e",
   "metadata": {},
   "outputs": [
    {
     "data": {
      "text/plain": [
       "<qiskit.circuit.instructionset.InstructionSet at 0x7fdd2ece9c80>"
      ]
     },
     "execution_count": 13,
     "metadata": {},
     "output_type": "execute_result"
    }
   ],
   "source": [
    "\n",
    "\n",
    "# Build\n",
    "# Create a Quantum Circuit acting on the q register\n",
    "circuit = QuantumCircuit(2, 2)\n",
    "\n",
    "#Add a NOT gate on qubit 1\n",
    "circuit.x(1)\n",
    "# Add a H gate on qubit 0 and 1\n",
    "circuit.h(0)\n",
    "circuit.h(1)\n",
    "# Add a CX (CNOT) gate on control qubit 0 and target qubit 1\n",
    "circuit.cx(0, 1)\n",
    "\n",
    "# Add a H gate on qubit 0 and 1\n",
    "circuit.h(0)\n",
    "circuit.h(1)\n",
    "\n",
    "# Map the quantum measurement to the classical bits\n",
    "circuit.measure([0,1], [0,1])"
   ]
  },
  {
   "cell_type": "code",
   "execution_count": 20,
   "id": "ca0f9b64-b617-4541-8ad8-db0ff1fe2ce0",
   "metadata": {},
   "outputs": [
    {
     "data": {
      "image/png": "[encoded data removed]",
      "text/plain": [
       "<Figure size 447.652x204.68 with 1 Axes>"
      ]
     },
     "execution_count": 20,
     "metadata": {},
     "output_type": "execute_result"
    }
   ],
   "source": [
    "circuit.draw(output = 'mpl')"
   ]
  },
  {
   "cell_type": "code",
   "execution_count": 14,
   "id": "cbb09d88-4467-4a63-880c-17a511644d60",
   "metadata": {},
   "outputs": [
    {
     "name": "stdout",
     "output_type": "stream",
     "text": [
      "\n",
      "Total count for 00 and 11 are: {'11': 1000}\n"
     ]
    }
   ],
   "source": [
    "# Use Aer's qasm_simulator\n",
    "simulator = Aer.get_backend('qasm_simulator')\n",
    "\n",
    "# Execute the circuit on the qasm simulator\n",
    "job = execute(circuit, simulator, shots=1000)\n",
    "\n",
    "# Grab results from the job\n",
    "result = job.result()\n",
    "\n",
    "# Return counts\n",
    "counts = result.get_counts(circuit)\n",
    "print(\"\\nTotal count for 00 and 11 are:\",counts)\n"
   ]
  },
  {
   "cell_type": "code",
   "execution_count": 15,
   "id": "7559047a-b10c-4661-a561-9229af28594b",
   "metadata": {},
   "outputs": [
    {
     "data": {
      "application/vnd.jupyter.widget-view+json": {
       "model_id": "9bff9468d2fe4e14979140e1a8ffe467",
       "version_major": 2,
       "version_minor": 0
      },
      "text/plain": [
       "CircuitComposer(circuit=<qiskit.circuit.quantumcircuit.QuantumCircuit object at 0x7fdd2ee2edf0>, editable=Fals…"
      ]
     },
     "metadata": {},
     "output_type": "display_data"
    },
    {
     "data": {
      "image/png": "[encoded data removed]",
      "text/plain": [
       "<Figure size 504x360 with 1 Axes>"
      ]
     },
     "execution_count": 15,
     "metadata": {},
     "output_type": "execute_result"
    }
   ],
   "source": [
    "# Import draw_circuit, then use it to draw the circuit\n",
    "from ibm_quantum_widgets import draw_circuit\n",
    "draw_circuit(circuit)\n",
    "\n",
    "# Analyze\n",
    "#--------\n",
    "\n",
    "# Plot a histogram\n",
    "plot_histogram(counts)"
   ]
  },
  {
   "cell_type": "code",
   "execution_count": 16,
   "id": "f8bc6ff3-c4df-40a1-ba97-a42322bd20c8",
   "metadata": {},
   "outputs": [
    {
     "name": "stderr",
     "output_type": "stream",
     "text": [
      "ibmqfactory.load_account:WARNING:2022-05-11 18:45:14,642: Credentials are already in use. The existing account in the session will be replaced.\n"
     ]
    },
    {
     "name": "stdout",
     "output_type": "stream",
     "text": [
      "least busy backend:  ibmq_belem\n"
     ]
    }
   ],
   "source": [
    "# Load our saved IBMQ accounts and get the least busy backend device with greater than or equal to (n+1) qubits\n",
    "n=2\n",
    "IBMQ.load_account()\n",
    "provider = IBMQ.get_provider(hub='ibm-q')\n",
    "backend = least_busy(provider.backends(filters=lambda x: x.configuration().n_qubits >= (n+1) and\n",
    "                                   not x.configuration().simulator and x.status().operational==True))\n",
    "print(\"least busy backend: \", backend)"
   ]
  },
  {
   "cell_type": "code",
   "execution_count": 17,
   "id": "62bc90d8-5bd2-4a1d-9f90-4ead405937cb",
   "metadata": {},
   "outputs": [
    {
     "name": "stdout",
     "output_type": "stream",
     "text": [
      "Job Status: job has successfully run\n"
     ]
    }
   ],
   "source": [
    "# Run our circuit on the least busy backend. Monitor the execution of the job in the queue\n",
    "from qiskit.tools.monitor import job_monitor\n",
    "\n",
    "transpiled_dj_circuit = transpile(circuit, backend, optimization_level=3)\n",
    "job = backend.run(transpiled_dj_circuit)\n",
    "job_monitor(job, interval=2)"
   ]
  },
  {
   "cell_type": "code",
   "execution_count": 19,
   "id": "49ffad05-9832-4138-974c-36be355c31bc",
   "metadata": {},
   "outputs": [
    {
     "data": {
      "image/png": "[encoded data removed]",
      "text/plain": [
       "<Figure size 504x360 with 1 Axes>"
      ]
     },
     "execution_count": 19,
     "metadata": {},
     "output_type": "execute_result"
    }
   ],
   "source": [
    "results = job.result()\n",
    "answer = results.get_counts()\n",
    "\n",
    "plot_histogram(answer)"
   ]
  },
  {
   "cell_type": "code",
   "execution_count": null,
   "id": "e316a471-419f-4875-b9e0-a4c934faadb5",
   "metadata": {},
   "outputs": [],
   "source": []
  }
 ],
 "metadata": {
  "kernelspec": {
   "display_name": "Python 3",
   "language": "python",
   "name": "python3"
  },
  "language_info": {
   "codemirror_mode": {
    "name": "ipython",
    "version": 3
   },
   "file_extension": ".py",
   "mimetype": "text/x-python",
   "name": "python",
   "nbconvert_exporter": "python",
   "pygments_lexer": "ipython3",
   "version": "3.8.8"
  },
  "widgets": {
   "application/vnd.jupyter.widget-state+json": {
    "state": {
     "03b42c9884554681bd72f8d0a69adea7": {
      "model_module": "@jupyter-widgets/controls",
      "model_module_version": "1.5.0",
      "model_name": "DescriptionStyleModel",
      "state": {
       "description_width": ""
      }
     },
     "07f41f2157b64d7b9507a6f43765d80a": {
      "model_module": "@jupyter-widgets/controls",
      "model_module_version": "1.5.0",
      "model_name": "ButtonModel",
      "state": {
       "button_style": "primary",
       "description": "Clear",
       "layout": "IPY_MODEL_272c532d533044288ddb4bf3d98c7301",
       "style": "IPY_MODEL_73aca842af0e406cb8d04688c16808f1"
      }
     },
     "0804d2db33bd4f92b90f3ac234625057": {
      "model_module": "ibm-q-lab-widgets-extension",
      "model_module_version": "^2.0.11",
      "model_name": "CircuitComposerModel",
      "state": {
       "_model_module_version": "^2.0.11",
       "_view_module_version": "^2.0.11",
       "circuit": "\"OPENQASM 2.0;\\ninclude \\\"qelib1.inc\\\";\\n\\nqreg q[2];\\ncreg c[2];\\n\\nx q[1];\\nh q[0];\\nh q[1];\\ncx q[0],q[1];\\nh q[0];\\nh q[1];\\nmeasure q[0] -> c[0];\\nmeasure q[1] -> c[1];\"",
       "editable": false,
       "layout": "IPY_MODEL_3f77349b8caa4efc9cab705f3534dcd2",
       "qiskit_code_cell_index": -1
      }
     },
     "081b6f374a594cd690d769f746b2bfe5": {
      "model_module": "@jupyter-widgets/controls",
      "model_module_version": "1.5.0",
      "model_name": "DescriptionStyleModel",
      "state": {
       "description_width": ""
      }
     },
     "09308480225b4b33b59c3e1ea6f39602": {
      "model_module": "@jupyter-widgets/controls",
      "model_module_version": "1.5.0",
      "model_name": "HTMLModel",
      "state": {
       "layout": "IPY_MODEL_590fb77d8a864620a07227dcca60b8b9",
       "style": "IPY_MODEL_3d63cceef2124257bd09961793160a4c",
       "value": "<h5>Job ID</h5>"
      }
     },
     "0d1ccb510fb640d59990faf31a9a78ed": {
      "model_module": "@jupyter-widgets/controls",
      "model_module_version": "1.5.0",
      "model_name": "HTMLModel",
      "state": {
       "layout": "IPY_MODEL_7db7c24187aa456cba5e214176289542",
       "style": "IPY_MODEL_a2ad99e6a5d54763b38abfb6067bc391",
       "value": "ibmq_belem"
      }
     },
     "13d14211e2dd40ae8455b3b6676a9857": {
      "model_module": "@jupyter-widgets/controls",
      "model_module_version": "1.5.0",
      "model_name": "ButtonStyleModel",
      "state": {
       "button_color": "white"
      }
     },
     "272c532d533044288ddb4bf3d98c7301": {
      "model_module": "@jupyter-widgets/base",
      "model_module_version": "1.2.0",
      "model_name": "LayoutModel",
      "state": {
       "grid_area": "right",
       "padding": "0px 0px 0px 0px",
       "width": "70px"
      }
     },
     "2afe9951e8c74a0bb97fc0cce4326466": {
      "model_module": "@jupyter-widgets/controls",
      "model_module_version": "1.5.0",
      "model_name": "HTMLModel",
      "state": {
       "layout": "IPY_MODEL_9c9de262502d4838b80fcc21a4403f8b",
       "style": "IPY_MODEL_f3695749f13f4158849d863ea235601c",
       "value": "<font style='color:#34BC6E'>DONE</font>"
      }
     },
     "2b35b3a796a845fd9960f9c43f9046c6": {
      "model_module": "@jupyter-widgets/controls",
      "model_module_version": "1.5.0",
      "model_name": "GridBoxModel",
      "state": {
       "children": [
        "IPY_MODEL_07f41f2157b64d7b9507a6f43765d80a"
       ],
       "layout": "IPY_MODEL_6073fba5dfb24cf58abc2ad2b4a08104"
      }
     },
     "31b33572d3fb4870b396b5f76134e941": {
      "model_module": "@jupyter-widgets/controls",
      "model_module_version": "1.5.0",
      "model_name": "DescriptionStyleModel",
      "state": {
       "description_width": ""
      }
     },
     "393f423f1dd34b9ba7a2ab19c2466776": {
      "model_module": "@jupyter-widgets/controls",
      "model_module_version": "1.5.0",
      "model_name": "DescriptionStyleModel",
      "state": {
       "description_width": ""
      }
     },
     "3a6f2ddb92ad4af9b81148e83d70ddd0": {
      "model_module": "@jupyter-widgets/controls",
      "model_module_version": "1.5.0",
      "model_name": "HBoxModel",
      "state": {
       "children": [
        "IPY_MODEL_09308480225b4b33b59c3e1ea6f39602",
        "IPY_MODEL_54f9d4c57d314880893c01ca1a58d15d",
        "IPY_MODEL_9792eb35e96146b9b9812adfc47897ba",
        "IPY_MODEL_cbd8ade5b08e4105a5d892272ac19623",
        "IPY_MODEL_880d4340f3cc447aaea4aa2d7651f72a"
       ],
       "layout": "IPY_MODEL_5ccf1748f92348c9b26cda7a951c3f41"
      }
     },
     "3af32e6466b34a61a05d95cb2fb5763d": {
      "model_module": "@jupyter-widgets/controls",
      "model_module_version": "1.5.0",
      "model_name": "HTMLModel",
      "state": {
       "layout": "IPY_MODEL_d7cd3550b7174f858cb3f3fffdf7273d",
       "style": "IPY_MODEL_de9e3b89d10a4343a842424257456759",
       "value": "627c04442a75601a54d0c065"
      }
     },
     "3d63cceef2124257bd09961793160a4c": {
      "model_module": "@jupyter-widgets/controls",
      "model_module_version": "1.5.0",
      "model_name": "DescriptionStyleModel",
      "state": {
       "description_width": ""
      }
     },
     "3f77349b8caa4efc9cab705f3534dcd2": {
      "model_module": "@jupyter-widgets/base",
      "model_module_version": "1.2.0",
      "model_name": "LayoutModel",
      "state": {}
     },
     "40c574d26e6940fa8df740e422e7dadd": {
      "model_module": "@jupyter-widgets/controls",
      "model_module_version": "1.5.0",
      "model_name": "ButtonModel",
      "state": {
       "icon": "close",
       "layout": "IPY_MODEL_c480ed529b494633b8b1441c0afb8b48",
       "style": "IPY_MODEL_13d14211e2dd40ae8455b3b6676a9857"
      }
     },
     "48bd698482a64715897249a1852d3d1e": {
      "model_module": "ibm-q-lab-widgets-extension",
      "model_module_version": "^2.0.11",
      "model_name": "CircuitComposerModel",
      "state": {
       "_model_module_version": "^2.0.11",
       "_view_module_version": "^2.0.11",
       "circuit": "\"OPENQASM 2.0;\\ninclude \\\"qelib1.inc\\\";\\n\\nqreg q[2];\\ncreg c[2];\\n\\nh q[0];\\ncx q[0],q[1];\\nmeasure q[0] -> c[0];\\nmeasure q[1] -> c[1];\"",
       "editable": false,
       "layout": "IPY_MODEL_a964bdf42be84113973efad90fcef033",
       "qiskit_code_cell_index": -1
      }
     },
     "54f9d4c57d314880893c01ca1a58d15d": {
      "model_module": "@jupyter-widgets/controls",
      "model_module_version": "1.5.0",
      "model_name": "HTMLModel",
      "state": {
       "layout": "IPY_MODEL_bd21a6177a114eab82f7614e9c47c010",
       "style": "IPY_MODEL_03b42c9884554681bd72f8d0a69adea7",
       "value": "<h5>Backend</h5>"
      }
     },
     "590fb77d8a864620a07227dcca60b8b9": {
      "model_module": "@jupyter-widgets/base",
      "model_module_version": "1.2.0",
      "model_name": "LayoutModel",
      "state": {
       "width": "190px"
      }
     },
     "5ccf1748f92348c9b26cda7a951c3f41": {
      "model_module": "@jupyter-widgets/base",
      "model_module_version": "1.2.0",
      "model_name": "LayoutModel",
      "state": {
       "margin": "0px 0px 0px 37px",
       "width": "600px"
      }
     },
     "5d826044ad624394b7333b2635762a6a": {
      "model_module": "@jupyter-widgets/base",
      "model_module_version": "1.2.0",
      "model_name": "LayoutModel",
      "state": {
       "overflow_x": "scroll"
      }
     },
     "6073fba5dfb24cf58abc2ad2b4a08104": {
      "model_module": "@jupyter-widgets/base",
      "model_module_version": "1.2.0",
      "model_name": "LayoutModel",
      "state": {
       "grid_template_areas": "\n                                       \". . . . right \"\n                                        ",
       "grid_template_columns": "20% 20% 20% 20% 20%",
       "width": "100%"
      }
     },
     "6a9fb6f1c24c4a90ba9f29ad2b65a5cd": {
      "model_module": "@jupyter-widgets/base",
      "model_module_version": "1.2.0",
      "model_name": "LayoutModel",
      "state": {}
     },
     "6fcf25716a4f453187666af49e598823": {
      "model_module": "@jupyter-widgets/controls",
      "model_module_version": "1.5.0",
      "model_name": "HTMLModel",
      "state": {
       "layout": "IPY_MODEL_865dc7118e854abd8173ffe0ad73d466",
       "style": "IPY_MODEL_31b33572d3fb4870b396b5f76134e941",
       "value": "-"
      }
     },
     "73aca842af0e406cb8d04688c16808f1": {
      "model_module": "@jupyter-widgets/controls",
      "model_module_version": "1.5.0",
      "model_name": "ButtonStyleModel",
      "state": {}
     },
     "7d07899f25fd492a86b7c48b24d2fb93": {
      "model_module": "@jupyter-widgets/base",
      "model_module_version": "1.2.0",
      "model_name": "LayoutModel",
      "state": {
       "width": "95px"
      }
     },
     "7db7c24187aa456cba5e214176289542": {
      "model_module": "@jupyter-widgets/base",
      "model_module_version": "1.2.0",
      "model_name": "LayoutModel",
      "state": {
       "width": "145px"
      }
     },
     "865dc7118e854abd8173ffe0ad73d466": {
      "model_module": "@jupyter-widgets/base",
      "model_module_version": "1.2.0",
      "model_name": "LayoutModel",
      "state": {
       "width": "70px"
      }
     },
     "880d4340f3cc447aaea4aa2d7651f72a": {
      "model_module": "@jupyter-widgets/controls",
      "model_module_version": "1.5.0",
      "model_name": "HTMLModel",
      "state": {
       "layout": "IPY_MODEL_d764e8cd854e4351bc5f4931eac63ecf",
       "style": "IPY_MODEL_eab73377b5994af5958066f5a2b351bc",
       "value": "<h5>Message</h5>"
      }
     },
     "9792eb35e96146b9b9812adfc47897ba": {
      "model_module": "@jupyter-widgets/controls",
      "model_module_version": "1.5.0",
      "model_name": "HTMLModel",
      "state": {
       "layout": "IPY_MODEL_7d07899f25fd492a86b7c48b24d2fb93",
       "style": "IPY_MODEL_081b6f374a594cd690d769f746b2bfe5",
       "value": "<h5>Status</h5>"
      }
     },
     "9bff9468d2fe4e14979140e1a8ffe467": {
      "model_module": "ibm-q-lab-widgets-extension",
      "model_module_version": "^2.0.11",
      "model_name": "CircuitComposerModel",
      "state": {
       "_model_module_version": "^2.0.11",
       "_view_module_version": "^2.0.11",
       "circuit": "\"OPENQASM 2.0;\\ninclude \\\"qelib1.inc\\\";\\n\\nqreg q[2];\\ncreg c[2];\\n\\nx q[1];\\nh q[0];\\nh q[1];\\ncx q[0],q[1];\\nh q[0];\\nh q[1];\\nmeasure q[0] -> c[0];\\nmeasure q[1] -> c[1];\"",
       "editable": false,
       "layout": "IPY_MODEL_6a9fb6f1c24c4a90ba9f29ad2b65a5cd",
       "qiskit_code_cell_index": -1
      }
     },
     "9c9de262502d4838b80fcc21a4403f8b": {
      "model_module": "@jupyter-widgets/base",
      "model_module_version": "1.2.0",
      "model_name": "LayoutModel",
      "state": {
       "width": "95px"
      }
     },
     "a2ad99e6a5d54763b38abfb6067bc391": {
      "model_module": "@jupyter-widgets/controls",
      "model_module_version": "1.5.0",
      "model_name": "DescriptionStyleModel",
      "state": {
       "description_width": ""
      }
     },
     "a964bdf42be84113973efad90fcef033": {
      "model_module": "@jupyter-widgets/base",
      "model_module_version": "1.2.0",
      "model_name": "LayoutModel",
      "state": {}
     },
     "aac6454ca55e46559c880780e408134b": {
      "model_module": "@jupyter-widgets/base",
      "model_module_version": "1.2.0",
      "model_name": "LayoutModel",
      "state": {
       "max_width": "700px",
       "min_width": "700px"
      }
     },
     "b357af29829f4b6396791eabb89ce60c": {
      "model_module": "@jupyter-widgets/controls",
      "model_module_version": "1.5.0",
      "model_name": "DescriptionStyleModel",
      "state": {
       "description_width": ""
      }
     },
     "b8097488cfd341d1a534ff83c5cf11aa": {
      "model_module": "@jupyter-widgets/controls",
      "model_module_version": "1.5.0",
      "model_name": "HBoxModel",
      "state": {
       "children": [
        "IPY_MODEL_40c574d26e6940fa8df740e422e7dadd",
        "IPY_MODEL_3af32e6466b34a61a05d95cb2fb5763d",
        "IPY_MODEL_0d1ccb510fb640d59990faf31a9a78ed",
        "IPY_MODEL_2afe9951e8c74a0bb97fc0cce4326466",
        "IPY_MODEL_6fcf25716a4f453187666af49e598823",
        "IPY_MODEL_c6aede72a3074f01835055e08098c31e"
       ],
       "layout": "IPY_MODEL_aac6454ca55e46559c880780e408134b"
      }
     },
     "ba3f2008108e44b6ae80c1b0b1a259a0": {
      "model_module": "@jupyter-widgets/base",
      "model_module_version": "1.2.0",
      "model_name": "LayoutModel",
      "state": {
       "width": "70px"
      }
     },
     "bd21a6177a114eab82f7614e9c47c010": {
      "model_module": "@jupyter-widgets/base",
      "model_module_version": "1.2.0",
      "model_name": "LayoutModel",
      "state": {
       "width": "145px"
      }
     },
     "c480ed529b494633b8b1441c0afb8b48": {
      "model_module": "@jupyter-widgets/base",
      "model_module_version": "1.2.0",
      "model_name": "LayoutModel",
      "state": {
       "margin": "0px 5px 0px 0px",
       "width": "32px"
      }
     },
     "c6aede72a3074f01835055e08098c31e": {
      "model_module": "@jupyter-widgets/controls",
      "model_module_version": "1.5.0",
      "model_name": "HTMLModel",
      "state": {
       "layout": "IPY_MODEL_5d826044ad624394b7333b2635762a6a",
       "style": "IPY_MODEL_393f423f1dd34b9ba7a2ab19c2466776",
       "value": "job has successfully run"
      }
     },
     "cbd8ade5b08e4105a5d892272ac19623": {
      "model_module": "@jupyter-widgets/controls",
      "model_module_version": "1.5.0",
      "model_name": "HTMLModel",
      "state": {
       "layout": "IPY_MODEL_ba3f2008108e44b6ae80c1b0b1a259a0",
       "style": "IPY_MODEL_b357af29829f4b6396791eabb89ce60c",
       "value": "<h5>Queue</h5>"
      }
     },
     "cbe5d17e37e84a1e95c16f25ec7a9b01": {
      "model_module": "@jupyter-widgets/controls",
      "model_module_version": "1.5.0",
      "model_name": "DescriptionStyleModel",
      "state": {
       "description_width": ""
      }
     },
     "d764e8cd854e4351bc5f4931eac63ecf": {
      "model_module": "@jupyter-widgets/base",
      "model_module_version": "1.2.0",
      "model_name": "LayoutModel",
      "state": {}
     },
     "d7cd3550b7174f858cb3f3fffdf7273d": {
      "model_module": "@jupyter-widgets/base",
      "model_module_version": "1.2.0",
      "model_name": "LayoutModel",
      "state": {
       "width": "190px"
      }
     },
     "de9e3b89d10a4343a842424257456759": {
      "model_module": "@jupyter-widgets/controls",
      "model_module_version": "1.5.0",
      "model_name": "DescriptionStyleModel",
      "state": {
       "description_width": ""
      }
     },
     "eab73377b5994af5958066f5a2b351bc": {
      "model_module": "@jupyter-widgets/controls",
      "model_module_version": "1.5.0",
      "model_name": "DescriptionStyleModel",
      "state": {
       "description_width": ""
      }
     },
     "f3695749f13f4158849d863ea235601c": {
      "model_module": "@jupyter-widgets/controls",
      "model_module_version": "1.5.0",
      "model_name": "DescriptionStyleModel",
      "state": {
       "description_width": ""
      }
     },
     "fedf17a352664bf0bc1f2b96a8212908": {
      "model_module": "@jupyter-widgets/controls",
      "model_module_version": "1.5.0",
      "model_name": "HTMLModel",
      "state": {
       "layout": "IPY_MODEL_ff7c608ce6224087a44ced73ac7bf7ab",
       "style": "IPY_MODEL_cbe5d17e37e84a1e95c16f25ec7a9b01",
       "value": "<p style='font-family: IBM Plex Sans, Arial, Helvetica, sans-serif; font-size: 20px; font-weight: medium;'>Circuit Properties</p>"
      }
     },
     "ff7c608ce6224087a44ced73ac7bf7ab": {
      "model_module": "@jupyter-widgets/base",
      "model_module_version": "1.2.0",
      "model_name": "LayoutModel",
      "state": {
       "margin": "0px 0px 10px 0px"
      }
     }
    },
    "version_major": 2,
    "version_minor": 0
   }
  }
 },
 "nbformat": 4,
 "nbformat_minor": 5
}
